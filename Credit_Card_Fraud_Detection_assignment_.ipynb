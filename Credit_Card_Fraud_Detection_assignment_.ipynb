{
  "nbformat": 4,
  "nbformat_minor": 0,
  "metadata": {
    "kernelspec": {
      "display_name": "Python 3",
      "language": "python",
      "name": "python3"
    },
    "language_info": {
      "codemirror_mode": {
        "name": "ipython",
        "version": 3
      },
      "file_extension": ".py",
      "mimetype": "text/x-python",
      "name": "python",
      "nbconvert_exporter": "python",
      "pygments_lexer": "ipython3",
      "version": "3.8.5"
    },
    "colab": {
      "name": "Credit-Card-Fraud-Detection-assignment..ipynb",
      "provenance": [],
      "include_colab_link": true
    }
  },
  "cells": [
    {
      "cell_type": "markdown",
      "metadata": {
        "id": "view-in-github",
        "colab_type": "text"
      },
      "source": [
        "<a href=\"https://colab.research.google.com/github/muhammadwajeeharif/DeepLearning-Assignment/blob/main/Credit_Card_Fraud_Detection_assignment_.ipynb\" target=\"_parent\"><img src=\"https://colab.research.google.com/assets/colab-badge.svg\" alt=\"Open In Colab\"/></a>"
      ]
    },
    {
      "cell_type": "markdown",
      "metadata": {
        "id": "K5q0UfWX_vVF"
      },
      "source": [
        "# Muhammad Wajeeh Arif\n",
        "# PIAIC161905\n",
        "# Credit Card Fraud Detection::"
      ]
    },
    {
      "cell_type": "markdown",
      "metadata": {
        "id": "LXWdfchr_vVI"
      },
      "source": [
        "Download dataset from this link:\n",
        "\n",
        "https://www.kaggle.com/mlg-ulb/creditcardfraud"
      ]
    },
    {
      "cell_type": "markdown",
      "metadata": {
        "id": "XqZLqI9Y_vVL"
      },
      "source": [
        "# Description about dataset::"
      ]
    },
    {
      "cell_type": "markdown",
      "metadata": {
        "id": "jKVpC6uS_vVM"
      },
      "source": [
        "The datasets contains transactions made by credit cards in September 2013 by european cardholders.\n",
        "This dataset presents transactions that occurred in two days, where we have 492 frauds out of 284,807 transactions. The dataset is highly unbalanced, the positive class (frauds) account for 0.172% of all transactions.\n",
        "\n",
        "It contains only numerical input variables which are the result of a PCA transformation. Unfortunately, due to confidentiality issues, we cannot provide the original features and more background information about the data. Features V1, V2, … V28 are the principal components obtained with PCA, the only features which have not been transformed with PCA are 'Time' and 'Amount'. Feature 'Time' contains the seconds elapsed between each transaction and the first transaction in the dataset. The feature 'Amount' is the transaction Amount, this feature can be used for example-dependant cost-senstive learning. \n",
        "\n",
        "\n",
        "### Feature 'Class' is the response variable and it takes value 1 in case of fraud and 0 otherwise."
      ]
    },
    {
      "cell_type": "markdown",
      "metadata": {
        "id": "zVN-i4SF_vVO"
      },
      "source": [
        "# WORKFLOW :"
      ]
    },
    {
      "cell_type": "markdown",
      "metadata": {
        "id": "UEIm6Aos_vVO"
      },
      "source": [
        "1.Load Data\n",
        "\n",
        "2.Check Missing Values ( If Exist ; Fill each record with mean of its feature )\n",
        "\n",
        "3.Standardized the Input Variables. \n",
        "\n",
        "4.Split into 50% Training(Samples,Labels) , 30% Test(Samples,Labels) and 20% Validation Data(Samples,Labels).\n",
        "\n",
        "5.Model : input Layer (No. of features ), 3 hidden layers including 10,8,6 unit & Output Layer with activation function relu/tanh (check by experiment).\n",
        "\n",
        "6.Compilation Step (Note : Its a Binary problem , select loss , metrics according to it)\n",
        "\n",
        "7.Train the Model with Epochs (100).\n",
        "\n",
        "8.If the model gets overfit tune your model by changing the units , No. of layers , epochs , add dropout layer or add Regularizer according to the need .\n",
        "\n",
        "9.Prediction should be > 92%\n",
        "10.Evaluation Step\n",
        "11Prediction\n"
      ]
    },
    {
      "cell_type": "markdown",
      "metadata": {
        "id": "eYw5g25K_vVP"
      },
      "source": [
        "# Task::"
      ]
    },
    {
      "cell_type": "markdown",
      "metadata": {
        "id": "CTWwQS43_vVP"
      },
      "source": [
        "## Identify fraudulent credit card transactions."
      ]
    },
    {
      "cell_type": "code",
      "metadata": {
        "id": "xmBCwAwF_vVQ"
      },
      "source": [
        "import pandas as pd\n",
        "import numpy as np\n",
        "import tensorflow as tf\n",
        "\n",
        "from keras import models,layers\n",
        "from keras import regularizers\n"
      ],
      "execution_count": null,
      "outputs": []
    },
    {
      "cell_type": "code",
      "metadata": {
        "id": "yMdXmb6v_vVQ",
        "outputId": "dfb9eed7-9300-4e5c-a6fc-a5c2aa3c64f8"
      },
      "source": [
        "df = pd.read_csv('./creditcard.csv')\n",
        "df.head(5)"
      ],
      "execution_count": null,
      "outputs": [
        {
          "output_type": "execute_result",
          "data": {
            "text/html": [
              "<div>\n",
              "<style scoped>\n",
              "    .dataframe tbody tr th:only-of-type {\n",
              "        vertical-align: middle;\n",
              "    }\n",
              "\n",
              "    .dataframe tbody tr th {\n",
              "        vertical-align: top;\n",
              "    }\n",
              "\n",
              "    .dataframe thead th {\n",
              "        text-align: right;\n",
              "    }\n",
              "</style>\n",
              "<table border=\"1\" class=\"dataframe\">\n",
              "  <thead>\n",
              "    <tr style=\"text-align: right;\">\n",
              "      <th></th>\n",
              "      <th>Time</th>\n",
              "      <th>V1</th>\n",
              "      <th>V2</th>\n",
              "      <th>V3</th>\n",
              "      <th>V4</th>\n",
              "      <th>V5</th>\n",
              "      <th>V6</th>\n",
              "      <th>V7</th>\n",
              "      <th>V8</th>\n",
              "      <th>V9</th>\n",
              "      <th>...</th>\n",
              "      <th>V21</th>\n",
              "      <th>V22</th>\n",
              "      <th>V23</th>\n",
              "      <th>V24</th>\n",
              "      <th>V25</th>\n",
              "      <th>V26</th>\n",
              "      <th>V27</th>\n",
              "      <th>V28</th>\n",
              "      <th>Amount</th>\n",
              "      <th>Class</th>\n",
              "    </tr>\n",
              "  </thead>\n",
              "  <tbody>\n",
              "    <tr>\n",
              "      <th>0</th>\n",
              "      <td>0.0</td>\n",
              "      <td>-1.359807</td>\n",
              "      <td>-0.072781</td>\n",
              "      <td>2.536347</td>\n",
              "      <td>1.378155</td>\n",
              "      <td>-0.338321</td>\n",
              "      <td>0.462388</td>\n",
              "      <td>0.239599</td>\n",
              "      <td>0.098698</td>\n",
              "      <td>0.363787</td>\n",
              "      <td>...</td>\n",
              "      <td>-0.018307</td>\n",
              "      <td>0.277838</td>\n",
              "      <td>-0.110474</td>\n",
              "      <td>0.066928</td>\n",
              "      <td>0.128539</td>\n",
              "      <td>-0.189115</td>\n",
              "      <td>0.133558</td>\n",
              "      <td>-0.021053</td>\n",
              "      <td>149.62</td>\n",
              "      <td>0</td>\n",
              "    </tr>\n",
              "    <tr>\n",
              "      <th>1</th>\n",
              "      <td>0.0</td>\n",
              "      <td>1.191857</td>\n",
              "      <td>0.266151</td>\n",
              "      <td>0.166480</td>\n",
              "      <td>0.448154</td>\n",
              "      <td>0.060018</td>\n",
              "      <td>-0.082361</td>\n",
              "      <td>-0.078803</td>\n",
              "      <td>0.085102</td>\n",
              "      <td>-0.255425</td>\n",
              "      <td>...</td>\n",
              "      <td>-0.225775</td>\n",
              "      <td>-0.638672</td>\n",
              "      <td>0.101288</td>\n",
              "      <td>-0.339846</td>\n",
              "      <td>0.167170</td>\n",
              "      <td>0.125895</td>\n",
              "      <td>-0.008983</td>\n",
              "      <td>0.014724</td>\n",
              "      <td>2.69</td>\n",
              "      <td>0</td>\n",
              "    </tr>\n",
              "    <tr>\n",
              "      <th>2</th>\n",
              "      <td>1.0</td>\n",
              "      <td>-1.358354</td>\n",
              "      <td>-1.340163</td>\n",
              "      <td>1.773209</td>\n",
              "      <td>0.379780</td>\n",
              "      <td>-0.503198</td>\n",
              "      <td>1.800499</td>\n",
              "      <td>0.791461</td>\n",
              "      <td>0.247676</td>\n",
              "      <td>-1.514654</td>\n",
              "      <td>...</td>\n",
              "      <td>0.247998</td>\n",
              "      <td>0.771679</td>\n",
              "      <td>0.909412</td>\n",
              "      <td>-0.689281</td>\n",
              "      <td>-0.327642</td>\n",
              "      <td>-0.139097</td>\n",
              "      <td>-0.055353</td>\n",
              "      <td>-0.059752</td>\n",
              "      <td>378.66</td>\n",
              "      <td>0</td>\n",
              "    </tr>\n",
              "    <tr>\n",
              "      <th>3</th>\n",
              "      <td>1.0</td>\n",
              "      <td>-0.966272</td>\n",
              "      <td>-0.185226</td>\n",
              "      <td>1.792993</td>\n",
              "      <td>-0.863291</td>\n",
              "      <td>-0.010309</td>\n",
              "      <td>1.247203</td>\n",
              "      <td>0.237609</td>\n",
              "      <td>0.377436</td>\n",
              "      <td>-1.387024</td>\n",
              "      <td>...</td>\n",
              "      <td>-0.108300</td>\n",
              "      <td>0.005274</td>\n",
              "      <td>-0.190321</td>\n",
              "      <td>-1.175575</td>\n",
              "      <td>0.647376</td>\n",
              "      <td>-0.221929</td>\n",
              "      <td>0.062723</td>\n",
              "      <td>0.061458</td>\n",
              "      <td>123.50</td>\n",
              "      <td>0</td>\n",
              "    </tr>\n",
              "    <tr>\n",
              "      <th>4</th>\n",
              "      <td>2.0</td>\n",
              "      <td>-1.158233</td>\n",
              "      <td>0.877737</td>\n",
              "      <td>1.548718</td>\n",
              "      <td>0.403034</td>\n",
              "      <td>-0.407193</td>\n",
              "      <td>0.095921</td>\n",
              "      <td>0.592941</td>\n",
              "      <td>-0.270533</td>\n",
              "      <td>0.817739</td>\n",
              "      <td>...</td>\n",
              "      <td>-0.009431</td>\n",
              "      <td>0.798278</td>\n",
              "      <td>-0.137458</td>\n",
              "      <td>0.141267</td>\n",
              "      <td>-0.206010</td>\n",
              "      <td>0.502292</td>\n",
              "      <td>0.219422</td>\n",
              "      <td>0.215153</td>\n",
              "      <td>69.99</td>\n",
              "      <td>0</td>\n",
              "    </tr>\n",
              "  </tbody>\n",
              "</table>\n",
              "<p>5 rows × 31 columns</p>\n",
              "</div>"
            ],
            "text/plain": [
              "   Time        V1        V2        V3        V4        V5        V6        V7  \\\n",
              "0   0.0 -1.359807 -0.072781  2.536347  1.378155 -0.338321  0.462388  0.239599   \n",
              "1   0.0  1.191857  0.266151  0.166480  0.448154  0.060018 -0.082361 -0.078803   \n",
              "2   1.0 -1.358354 -1.340163  1.773209  0.379780 -0.503198  1.800499  0.791461   \n",
              "3   1.0 -0.966272 -0.185226  1.792993 -0.863291 -0.010309  1.247203  0.237609   \n",
              "4   2.0 -1.158233  0.877737  1.548718  0.403034 -0.407193  0.095921  0.592941   \n",
              "\n",
              "         V8        V9  ...       V21       V22       V23       V24       V25  \\\n",
              "0  0.098698  0.363787  ... -0.018307  0.277838 -0.110474  0.066928  0.128539   \n",
              "1  0.085102 -0.255425  ... -0.225775 -0.638672  0.101288 -0.339846  0.167170   \n",
              "2  0.247676 -1.514654  ...  0.247998  0.771679  0.909412 -0.689281 -0.327642   \n",
              "3  0.377436 -1.387024  ... -0.108300  0.005274 -0.190321 -1.175575  0.647376   \n",
              "4 -0.270533  0.817739  ... -0.009431  0.798278 -0.137458  0.141267 -0.206010   \n",
              "\n",
              "        V26       V27       V28  Amount  Class  \n",
              "0 -0.189115  0.133558 -0.021053  149.62      0  \n",
              "1  0.125895 -0.008983  0.014724    2.69      0  \n",
              "2 -0.139097 -0.055353 -0.059752  378.66      0  \n",
              "3 -0.221929  0.062723  0.061458  123.50      0  \n",
              "4  0.502292  0.219422  0.215153   69.99      0  \n",
              "\n",
              "[5 rows x 31 columns]"
            ]
          },
          "metadata": {
            "tags": []
          },
          "execution_count": 16
        }
      ]
    },
    {
      "cell_type": "code",
      "metadata": {
        "id": "JR2lSQb1_vVR"
      },
      "source": [
        "non_fraud=df[df[\"Class\"]==0]\n",
        "fraud = df[df[\"Class\"]==1]\n",
        "non_fraud=non_fraud.sample(3*fraud.shape[0])\n",
        "data = fraud.append(non_fraud, ignore_index=True)\n",
        "# data[\"Class\"].value_counts()\n",
        "# x_data= data.drop(columns=\"Class\", axis=0)\n",
        "# label = data[\"Class\"]"
      ],
      "execution_count": null,
      "outputs": []
    },
    {
      "cell_type": "code",
      "metadata": {
        "id": "gFXlxemB_vVS"
      },
      "source": [
        "# min_d = data.min()\n",
        "# max_d = data.max()\n",
        "# normalized_df=(data - min_d)/(max_d - min_d)\n",
        "# normalized_df.head()"
      ],
      "execution_count": null,
      "outputs": []
    },
    {
      "cell_type": "code",
      "metadata": {
        "id": "x0zt7jR3_vVS"
      },
      "source": [
        "train_data = data.sample(frac= 0.7, random_state=125)\n",
        "test_data =  data.drop(train_data.index)"
      ],
      "execution_count": null,
      "outputs": []
    },
    {
      "cell_type": "code",
      "metadata": {
        "id": "gG9g6cUG_vVT"
      },
      "source": [
        "train_labels = train_data.iloc[:,-1]\n",
        "train_data = train_data.iloc[:,0:-1]\n",
        "test_labels = test_data.iloc[:,-1]\n",
        "test_data = test_data.iloc[:,0:-1]"
      ],
      "execution_count": null,
      "outputs": []
    },
    {
      "cell_type": "code",
      "metadata": {
        "id": "D_N3mz6C_vVT"
      },
      "source": [
        "train_mean = train_data.mean(axis=0) # taking the mean of \n",
        "train_data -= train_mean\n",
        "train_std = train_data.std(axis=0)\n",
        "train_data /= train_std\n",
        "test_data -= train_mean\n",
        "test_data /= train_std"
      ],
      "execution_count": null,
      "outputs": []
    },
    {
      "cell_type": "code",
      "metadata": {
        "id": "g2djR-To_vVT",
        "outputId": "bd5259a9-46df-4945-d38d-959f7fe2c90d"
      },
      "source": [
        "train_data.describe()"
      ],
      "execution_count": null,
      "outputs": [
        {
          "output_type": "execute_result",
          "data": {
            "text/html": [
              "<div>\n",
              "<style scoped>\n",
              "    .dataframe tbody tr th:only-of-type {\n",
              "        vertical-align: middle;\n",
              "    }\n",
              "\n",
              "    .dataframe tbody tr th {\n",
              "        vertical-align: top;\n",
              "    }\n",
              "\n",
              "    .dataframe thead th {\n",
              "        text-align: right;\n",
              "    }\n",
              "</style>\n",
              "<table border=\"1\" class=\"dataframe\">\n",
              "  <thead>\n",
              "    <tr style=\"text-align: right;\">\n",
              "      <th></th>\n",
              "      <th>Time</th>\n",
              "      <th>V1</th>\n",
              "      <th>V2</th>\n",
              "      <th>V3</th>\n",
              "      <th>V4</th>\n",
              "      <th>V5</th>\n",
              "      <th>V6</th>\n",
              "      <th>V7</th>\n",
              "      <th>V8</th>\n",
              "      <th>V9</th>\n",
              "      <th>...</th>\n",
              "      <th>V20</th>\n",
              "      <th>V21</th>\n",
              "      <th>V22</th>\n",
              "      <th>V23</th>\n",
              "      <th>V24</th>\n",
              "      <th>V25</th>\n",
              "      <th>V26</th>\n",
              "      <th>V27</th>\n",
              "      <th>V28</th>\n",
              "      <th>Amount</th>\n",
              "    </tr>\n",
              "  </thead>\n",
              "  <tbody>\n",
              "    <tr>\n",
              "      <th>count</th>\n",
              "      <td>1.378000e+03</td>\n",
              "      <td>1.378000e+03</td>\n",
              "      <td>1.378000e+03</td>\n",
              "      <td>1.378000e+03</td>\n",
              "      <td>1.378000e+03</td>\n",
              "      <td>1.378000e+03</td>\n",
              "      <td>1.378000e+03</td>\n",
              "      <td>1.378000e+03</td>\n",
              "      <td>1.378000e+03</td>\n",
              "      <td>1.378000e+03</td>\n",
              "      <td>...</td>\n",
              "      <td>1.378000e+03</td>\n",
              "      <td>1.378000e+03</td>\n",
              "      <td>1.378000e+03</td>\n",
              "      <td>1.378000e+03</td>\n",
              "      <td>1.378000e+03</td>\n",
              "      <td>1.378000e+03</td>\n",
              "      <td>1.378000e+03</td>\n",
              "      <td>1.378000e+03</td>\n",
              "      <td>1.378000e+03</td>\n",
              "      <td>1.378000e+03</td>\n",
              "    </tr>\n",
              "    <tr>\n",
              "      <th>mean</th>\n",
              "      <td>-1.305197e-17</td>\n",
              "      <td>-1.148090e-17</td>\n",
              "      <td>4.451366e-16</td>\n",
              "      <td>1.381736e-16</td>\n",
              "      <td>-3.543368e-16</td>\n",
              "      <td>9.603671e-17</td>\n",
              "      <td>-3.714171e-17</td>\n",
              "      <td>1.817305e-16</td>\n",
              "      <td>-1.059465e-17</td>\n",
              "      <td>-5.024404e-16</td>\n",
              "      <td>...</td>\n",
              "      <td>-1.023210e-17</td>\n",
              "      <td>5.148277e-17</td>\n",
              "      <td>-4.161322e-17</td>\n",
              "      <td>4.785722e-17</td>\n",
              "      <td>-6.143288e-17</td>\n",
              "      <td>1.611354e-19</td>\n",
              "      <td>2.319846e-17</td>\n",
              "      <td>-3.879335e-17</td>\n",
              "      <td>1.643581e-17</td>\n",
              "      <td>-6.767688e-18</td>\n",
              "    </tr>\n",
              "    <tr>\n",
              "      <th>std</th>\n",
              "      <td>1.000000e+00</td>\n",
              "      <td>1.000000e+00</td>\n",
              "      <td>1.000000e+00</td>\n",
              "      <td>1.000000e+00</td>\n",
              "      <td>1.000000e+00</td>\n",
              "      <td>1.000000e+00</td>\n",
              "      <td>1.000000e+00</td>\n",
              "      <td>1.000000e+00</td>\n",
              "      <td>1.000000e+00</td>\n",
              "      <td>1.000000e+00</td>\n",
              "      <td>...</td>\n",
              "      <td>1.000000e+00</td>\n",
              "      <td>1.000000e+00</td>\n",
              "      <td>1.000000e+00</td>\n",
              "      <td>1.000000e+00</td>\n",
              "      <td>1.000000e+00</td>\n",
              "      <td>1.000000e+00</td>\n",
              "      <td>1.000000e+00</td>\n",
              "      <td>1.000000e+00</td>\n",
              "      <td>1.000000e+00</td>\n",
              "      <td>1.000000e+00</td>\n",
              "    </tr>\n",
              "    <tr>\n",
              "      <th>min</th>\n",
              "      <td>-1.877515e+00</td>\n",
              "      <td>-6.559463e+00</td>\n",
              "      <td>-7.975311e+00</td>\n",
              "      <td>-5.877864e+00</td>\n",
              "      <td>-1.939416e+00</td>\n",
              "      <td>-6.327695e+00</td>\n",
              "      <td>-3.713556e+00</td>\n",
              "      <td>-9.048185e+00</td>\n",
              "      <td>-1.092073e+01</td>\n",
              "      <td>-6.496406e+00</td>\n",
              "      <td>...</td>\n",
              "      <td>-6.894766e+00</td>\n",
              "      <td>-1.066741e+01</td>\n",
              "      <td>-8.850664e+00</td>\n",
              "      <td>-1.908527e+01</td>\n",
              "      <td>-3.254899e+00</td>\n",
              "      <td>-7.706496e+00</td>\n",
              "      <td>-3.400906e+00</td>\n",
              "      <td>-9.301447e+00</td>\n",
              "      <td>-1.288319e+01</td>\n",
              "      <td>-4.290544e-01</td>\n",
              "    </tr>\n",
              "    <tr>\n",
              "      <th>25%</th>\n",
              "      <td>-8.608714e-01</td>\n",
              "      <td>-8.403617e-02</td>\n",
              "      <td>-4.384486e-01</td>\n",
              "      <td>-6.102711e-02</td>\n",
              "      <td>-6.383382e-01</td>\n",
              "      <td>-9.932975e-02</td>\n",
              "      <td>-4.597244e-01</td>\n",
              "      <td>5.721196e-02</td>\n",
              "      <td>-8.546018e-02</td>\n",
              "      <td>-2.957751e-01</td>\n",
              "      <td>...</td>\n",
              "      <td>-3.236817e-01</td>\n",
              "      <td>-1.726429e-01</td>\n",
              "      <td>-5.685446e-01</td>\n",
              "      <td>-1.881379e-01</td>\n",
              "      <td>-6.337282e-01</td>\n",
              "      <td>-5.485544e-01</td>\n",
              "      <td>-6.551955e-01</td>\n",
              "      <td>-1.415273e-01</td>\n",
              "      <td>-1.932659e-01</td>\n",
              "      <td>-4.136222e-01</td>\n",
              "    </tr>\n",
              "    <tr>\n",
              "      <th>50%</th>\n",
              "      <td>-1.792874e-01</td>\n",
              "      <td>1.975596e-01</td>\n",
              "      <td>-1.628231e-01</td>\n",
              "      <td>2.988448e-01</td>\n",
              "      <td>-2.669480e-01</td>\n",
              "      <td>1.897611e-01</td>\n",
              "      <td>-4.158660e-02</td>\n",
              "      <td>2.668152e-01</td>\n",
              "      <td>-1.805987e-03</td>\n",
              "      <td>1.860241e-01</td>\n",
              "      <td>...</td>\n",
              "      <td>-1.394710e-01</td>\n",
              "      <td>-5.241965e-02</td>\n",
              "      <td>1.609477e-02</td>\n",
              "      <td>-5.732187e-03</td>\n",
              "      <td>1.074739e-01</td>\n",
              "      <td>4.602511e-02</td>\n",
              "      <td>-7.138666e-02</td>\n",
              "      <td>-2.934843e-02</td>\n",
              "      <td>7.814650e-03</td>\n",
              "      <td>-3.427025e-01</td>\n",
              "    </tr>\n",
              "    <tr>\n",
              "      <th>75%</th>\n",
              "      <td>9.472013e-01</td>\n",
              "      <td>5.604483e-01</td>\n",
              "      <td>1.608390e-01</td>\n",
              "      <td>5.195950e-01</td>\n",
              "      <td>3.897583e-01</td>\n",
              "      <td>4.207658e-01</td>\n",
              "      <td>3.948922e-01</td>\n",
              "      <td>4.227654e-01</td>\n",
              "      <td>1.252874e-01</td>\n",
              "      <td>5.675205e-01</td>\n",
              "      <td>...</td>\n",
              "      <td>1.602489e-01</td>\n",
              "      <td>9.758796e-02</td>\n",
              "      <td>5.404421e-01</td>\n",
              "      <td>1.916109e-01</td>\n",
              "      <td>7.351688e-01</td>\n",
              "      <td>5.970730e-01</td>\n",
              "      <td>5.915097e-01</td>\n",
              "      <td>2.515075e-01</td>\n",
              "      <td>3.224199e-01</td>\n",
              "      <td>-4.302323e-02</td>\n",
              "    </tr>\n",
              "    <tr>\n",
              "      <th>max</th>\n",
              "      <td>1.679250e+00</td>\n",
              "      <td>8.293915e-01</td>\n",
              "      <td>6.733141e+00</td>\n",
              "      <td>1.009087e+00</td>\n",
              "      <td>3.970632e+00</td>\n",
              "      <td>3.544377e+00</td>\n",
              "      <td>4.580162e+00</td>\n",
              "      <td>1.926572e+00</td>\n",
              "      <td>5.283599e+00</td>\n",
              "      <td>3.487510e+00</td>\n",
              "      <td>...</td>\n",
              "      <td>1.154049e+01</td>\n",
              "      <td>1.256578e+01</td>\n",
              "      <td>8.289939e+00</td>\n",
              "      <td>5.446041e+00</td>\n",
              "      <td>5.796762e+00</td>\n",
              "      <td>3.516774e+00</td>\n",
              "      <td>4.613447e+00</td>\n",
              "      <td>3.824109e+00</td>\n",
              "      <td>5.371044e+00</td>\n",
              "      <td>9.158452e+00</td>\n",
              "    </tr>\n",
              "  </tbody>\n",
              "</table>\n",
              "<p>8 rows × 30 columns</p>\n",
              "</div>"
            ],
            "text/plain": [
              "               Time            V1            V2            V3            V4  \\\n",
              "count  1.378000e+03  1.378000e+03  1.378000e+03  1.378000e+03  1.378000e+03   \n",
              "mean  -1.305197e-17 -1.148090e-17  4.451366e-16  1.381736e-16 -3.543368e-16   \n",
              "std    1.000000e+00  1.000000e+00  1.000000e+00  1.000000e+00  1.000000e+00   \n",
              "min   -1.877515e+00 -6.559463e+00 -7.975311e+00 -5.877864e+00 -1.939416e+00   \n",
              "25%   -8.608714e-01 -8.403617e-02 -4.384486e-01 -6.102711e-02 -6.383382e-01   \n",
              "50%   -1.792874e-01  1.975596e-01 -1.628231e-01  2.988448e-01 -2.669480e-01   \n",
              "75%    9.472013e-01  5.604483e-01  1.608390e-01  5.195950e-01  3.897583e-01   \n",
              "max    1.679250e+00  8.293915e-01  6.733141e+00  1.009087e+00  3.970632e+00   \n",
              "\n",
              "                 V5            V6            V7            V8            V9  \\\n",
              "count  1.378000e+03  1.378000e+03  1.378000e+03  1.378000e+03  1.378000e+03   \n",
              "mean   9.603671e-17 -3.714171e-17  1.817305e-16 -1.059465e-17 -5.024404e-16   \n",
              "std    1.000000e+00  1.000000e+00  1.000000e+00  1.000000e+00  1.000000e+00   \n",
              "min   -6.327695e+00 -3.713556e+00 -9.048185e+00 -1.092073e+01 -6.496406e+00   \n",
              "25%   -9.932975e-02 -4.597244e-01  5.721196e-02 -8.546018e-02 -2.957751e-01   \n",
              "50%    1.897611e-01 -4.158660e-02  2.668152e-01 -1.805987e-03  1.860241e-01   \n",
              "75%    4.207658e-01  3.948922e-01  4.227654e-01  1.252874e-01  5.675205e-01   \n",
              "max    3.544377e+00  4.580162e+00  1.926572e+00  5.283599e+00  3.487510e+00   \n",
              "\n",
              "       ...           V20           V21           V22           V23  \\\n",
              "count  ...  1.378000e+03  1.378000e+03  1.378000e+03  1.378000e+03   \n",
              "mean   ... -1.023210e-17  5.148277e-17 -4.161322e-17  4.785722e-17   \n",
              "std    ...  1.000000e+00  1.000000e+00  1.000000e+00  1.000000e+00   \n",
              "min    ... -6.894766e+00 -1.066741e+01 -8.850664e+00 -1.908527e+01   \n",
              "25%    ... -3.236817e-01 -1.726429e-01 -5.685446e-01 -1.881379e-01   \n",
              "50%    ... -1.394710e-01 -5.241965e-02  1.609477e-02 -5.732187e-03   \n",
              "75%    ...  1.602489e-01  9.758796e-02  5.404421e-01  1.916109e-01   \n",
              "max    ...  1.154049e+01  1.256578e+01  8.289939e+00  5.446041e+00   \n",
              "\n",
              "                V24           V25           V26           V27           V28  \\\n",
              "count  1.378000e+03  1.378000e+03  1.378000e+03  1.378000e+03  1.378000e+03   \n",
              "mean  -6.143288e-17  1.611354e-19  2.319846e-17 -3.879335e-17  1.643581e-17   \n",
              "std    1.000000e+00  1.000000e+00  1.000000e+00  1.000000e+00  1.000000e+00   \n",
              "min   -3.254899e+00 -7.706496e+00 -3.400906e+00 -9.301447e+00 -1.288319e+01   \n",
              "25%   -6.337282e-01 -5.485544e-01 -6.551955e-01 -1.415273e-01 -1.932659e-01   \n",
              "50%    1.074739e-01  4.602511e-02 -7.138666e-02 -2.934843e-02  7.814650e-03   \n",
              "75%    7.351688e-01  5.970730e-01  5.915097e-01  2.515075e-01  3.224199e-01   \n",
              "max    5.796762e+00  3.516774e+00  4.613447e+00  3.824109e+00  5.371044e+00   \n",
              "\n",
              "             Amount  \n",
              "count  1.378000e+03  \n",
              "mean  -6.767688e-18  \n",
              "std    1.000000e+00  \n",
              "min   -4.290544e-01  \n",
              "25%   -4.136222e-01  \n",
              "50%   -3.427025e-01  \n",
              "75%   -4.302323e-02  \n",
              "max    9.158452e+00  \n",
              "\n",
              "[8 rows x 30 columns]"
            ]
          },
          "metadata": {
            "tags": []
          },
          "execution_count": 22
        }
      ]
    },
    {
      "cell_type": "code",
      "metadata": {
        "id": "Q6xeOOsh_vVU"
      },
      "source": [
        "#train_data, test_data, train_labels, test_labels=train_test_split(x_data, label, test_size=0.3, random_state=1, stratify = label)"
      ],
      "execution_count": null,
      "outputs": []
    },
    {
      "cell_type": "code",
      "metadata": {
        "id": "lrCpRZaF_vVU"
      },
      "source": [
        "train_data = train_data.to_numpy()\n",
        "train_labels = train_labels.to_numpy().astype('float64')\n",
        "\n",
        "test_data = test_data.to_numpy()\n",
        "test_labels = test_labels.to_numpy().astype('float64')"
      ],
      "execution_count": null,
      "outputs": []
    },
    {
      "cell_type": "code",
      "metadata": {
        "id": "IzAFZDxx_vVV"
      },
      "source": [
        "model = models.Sequential()\n",
        "model.add(layers.Dense(20, activation='relu',kernel_regularizer=regularizers.l2(0.001), input_shape=(train_data.shape[1],)))\n",
        "model.add(layers.Dropout(0.5))\n",
        "model.add(layers.Dense(10, activation='relu',kernel_regularizer=regularizers.l2(0.001)))\n",
        "model.add(layers.Dropout(0.5))\n",
        "model.add(layers.Dense(8, activation='relu',kernel_regularizer=regularizers.l2(0.001)))\n",
        "model.add(layers.Dropout(0.5))\n",
        "model.add(layers.Dense(6, activation='relu',kernel_regularizer=regularizers.l2(0.001)))\n",
        "model.add(layers.Dropout(0.5))\n",
        "model.add(layers.Dense(1, activation='sigmoid'))"
      ],
      "execution_count": null,
      "outputs": []
    },
    {
      "cell_type": "code",
      "metadata": {
        "id": "2AbTrViW_vVV"
      },
      "source": [
        "model.compile(loss= 'binary_crossentropy', optimizer= 'rmsprop', metrics=['accuracy'])"
      ],
      "execution_count": null,
      "outputs": []
    },
    {
      "cell_type": "code",
      "metadata": {
        "id": "TJIzKyf0_vVW",
        "outputId": "279575b6-097b-4bb3-9255-522eaac594b7"
      },
      "source": [
        "model.fit(train_data, train_labels, epochs=50,validation_split = 0.3)"
      ],
      "execution_count": null,
      "outputs": [
        {
          "output_type": "stream",
          "text": [
            "Epoch 1/50\n",
            "31/31 [==============================] - 2s 31ms/step - loss: 0.7633 - accuracy: 0.6651 - val_loss: 0.6913 - val_accuracy: 0.7295\n",
            "Epoch 2/50\n",
            "31/31 [==============================] - 0s 3ms/step - loss: 0.7382 - accuracy: 0.6977 - val_loss: 0.6670 - val_accuracy: 0.7295\n",
            "Epoch 3/50\n",
            "31/31 [==============================] - 0s 3ms/step - loss: 0.7668 - accuracy: 0.7070 - val_loss: 0.6444 - val_accuracy: 0.7295\n",
            "Epoch 4/50\n",
            "31/31 [==============================] - 0s 4ms/step - loss: 0.6775 - accuracy: 0.7445 - val_loss: 0.6218 - val_accuracy: 0.7295\n",
            "Epoch 5/50\n",
            "31/31 [==============================] - 0s 3ms/step - loss: 0.6695 - accuracy: 0.7129 - val_loss: 0.5994 - val_accuracy: 0.7295\n",
            "Epoch 6/50\n",
            "31/31 [==============================] - 0s 2ms/step - loss: 0.6655 - accuracy: 0.7354 - val_loss: 0.5832 - val_accuracy: 0.7295\n",
            "Epoch 7/50\n",
            "31/31 [==============================] - 0s 3ms/step - loss: 0.6230 - accuracy: 0.7453 - val_loss: 0.5721 - val_accuracy: 0.7295\n",
            "Epoch 8/50\n",
            "31/31 [==============================] - 0s 3ms/step - loss: 0.6178 - accuracy: 0.7638 - val_loss: 0.5591 - val_accuracy: 0.7295\n",
            "Epoch 9/50\n",
            "31/31 [==============================] - 0s 3ms/step - loss: 0.6042 - accuracy: 0.7481 - val_loss: 0.5467 - val_accuracy: 0.7295\n",
            "Epoch 10/50\n",
            "31/31 [==============================] - 0s 3ms/step - loss: 0.5963 - accuracy: 0.7477 - val_loss: 0.5351 - val_accuracy: 0.7295\n",
            "Epoch 11/50\n",
            "31/31 [==============================] - 0s 3ms/step - loss: 0.5827 - accuracy: 0.7386 - val_loss: 0.5167 - val_accuracy: 0.7295\n",
            "Epoch 12/50\n",
            "31/31 [==============================] - 0s 3ms/step - loss: 0.5860 - accuracy: 0.7514 - val_loss: 0.5012 - val_accuracy: 0.7295\n",
            "Epoch 13/50\n",
            "31/31 [==============================] - 0s 3ms/step - loss: 0.5432 - accuracy: 0.7697 - val_loss: 0.4915 - val_accuracy: 0.7295\n",
            "Epoch 14/50\n",
            "31/31 [==============================] - 0s 3ms/step - loss: 0.5361 - accuracy: 0.7582 - val_loss: 0.4766 - val_accuracy: 0.7295\n",
            "Epoch 15/50\n",
            "31/31 [==============================] - 0s 3ms/step - loss: 0.5493 - accuracy: 0.7517 - val_loss: 0.4646 - val_accuracy: 0.7295\n",
            "Epoch 16/50\n",
            "31/31 [==============================] - 0s 4ms/step - loss: 0.5213 - accuracy: 0.7583 - val_loss: 0.4544 - val_accuracy: 0.7295\n",
            "Epoch 17/50\n",
            "31/31 [==============================] - 0s 3ms/step - loss: 0.5188 - accuracy: 0.7521 - val_loss: 0.4377 - val_accuracy: 0.7295\n",
            "Epoch 18/50\n",
            "31/31 [==============================] - 0s 3ms/step - loss: 0.5498 - accuracy: 0.7459 - val_loss: 0.4161 - val_accuracy: 0.7295\n",
            "Epoch 19/50\n",
            "31/31 [==============================] - 0s 3ms/step - loss: 0.5053 - accuracy: 0.7454 - val_loss: 0.4035 - val_accuracy: 0.7295\n",
            "Epoch 20/50\n",
            "31/31 [==============================] - 0s 3ms/step - loss: 0.4843 - accuracy: 0.7723 - val_loss: 0.3932 - val_accuracy: 0.7295\n",
            "Epoch 21/50\n",
            "31/31 [==============================] - 0s 3ms/step - loss: 0.4725 - accuracy: 0.7372 - val_loss: 0.3870 - val_accuracy: 0.7295\n",
            "Epoch 22/50\n",
            "31/31 [==============================] - 0s 3ms/step - loss: 0.4546 - accuracy: 0.7995 - val_loss: 0.3809 - val_accuracy: 0.7295\n",
            "Epoch 23/50\n",
            "31/31 [==============================] - 0s 3ms/step - loss: 0.4589 - accuracy: 0.7504 - val_loss: 0.3753 - val_accuracy: 0.7319\n",
            "Epoch 24/50\n",
            "31/31 [==============================] - 0s 3ms/step - loss: 0.4813 - accuracy: 0.7599 - val_loss: 0.3683 - val_accuracy: 0.7415\n",
            "Epoch 25/50\n",
            "31/31 [==============================] - 0s 3ms/step - loss: 0.4220 - accuracy: 0.7791 - val_loss: 0.3634 - val_accuracy: 0.7415\n",
            "Epoch 26/50\n",
            "31/31 [==============================] - 0s 3ms/step - loss: 0.4894 - accuracy: 0.7511 - val_loss: 0.3593 - val_accuracy: 0.7415\n",
            "Epoch 27/50\n",
            "31/31 [==============================] - 0s 3ms/step - loss: 0.4215 - accuracy: 0.7611 - val_loss: 0.3519 - val_accuracy: 0.7681\n",
            "Epoch 28/50\n",
            "31/31 [==============================] - 0s 3ms/step - loss: 0.4675 - accuracy: 0.7698 - val_loss: 0.3423 - val_accuracy: 0.8333\n",
            "Epoch 29/50\n",
            "31/31 [==============================] - 0s 3ms/step - loss: 0.4171 - accuracy: 0.7955 - val_loss: 0.3326 - val_accuracy: 0.9106\n",
            "Epoch 30/50\n",
            "31/31 [==============================] - 0s 3ms/step - loss: 0.4124 - accuracy: 0.7730 - val_loss: 0.3229 - val_accuracy: 0.9348\n",
            "Epoch 31/50\n",
            "31/31 [==============================] - 0s 3ms/step - loss: 0.3912 - accuracy: 0.8115 - val_loss: 0.3167 - val_accuracy: 0.9444\n",
            "Epoch 32/50\n",
            "31/31 [==============================] - 0s 3ms/step - loss: 0.3910 - accuracy: 0.7785 - val_loss: 0.3183 - val_accuracy: 0.9493\n",
            "Epoch 33/50\n",
            "31/31 [==============================] - 0s 3ms/step - loss: 0.3869 - accuracy: 0.7981 - val_loss: 0.3139 - val_accuracy: 0.9541\n",
            "Epoch 34/50\n",
            "31/31 [==============================] - 0s 3ms/step - loss: 0.3424 - accuracy: 0.8261 - val_loss: 0.3109 - val_accuracy: 0.9565\n",
            "Epoch 35/50\n",
            "31/31 [==============================] - 0s 3ms/step - loss: 0.3893 - accuracy: 0.8153 - val_loss: 0.3066 - val_accuracy: 0.9565\n",
            "Epoch 36/50\n",
            "31/31 [==============================] - 0s 3ms/step - loss: 0.3413 - accuracy: 0.8600 - val_loss: 0.3040 - val_accuracy: 0.9614\n",
            "Epoch 37/50\n",
            "31/31 [==============================] - 0s 3ms/step - loss: 0.3738 - accuracy: 0.8452 - val_loss: 0.2947 - val_accuracy: 0.9614\n",
            "Epoch 38/50\n",
            "31/31 [==============================] - 0s 3ms/step - loss: 0.3982 - accuracy: 0.8030 - val_loss: 0.2943 - val_accuracy: 0.9638\n",
            "Epoch 39/50\n",
            "31/31 [==============================] - 0s 3ms/step - loss: 0.3713 - accuracy: 0.8123 - val_loss: 0.2984 - val_accuracy: 0.9638\n",
            "Epoch 40/50\n",
            "31/31 [==============================] - 0s 2ms/step - loss: 0.3959 - accuracy: 0.8386 - val_loss: 0.2861 - val_accuracy: 0.9614\n",
            "Epoch 41/50\n",
            "31/31 [==============================] - 0s 3ms/step - loss: 0.3775 - accuracy: 0.8267 - val_loss: 0.2785 - val_accuracy: 0.9614\n",
            "Epoch 42/50\n",
            "31/31 [==============================] - 0s 2ms/step - loss: 0.3653 - accuracy: 0.8142 - val_loss: 0.2850 - val_accuracy: 0.9614\n",
            "Epoch 43/50\n",
            "31/31 [==============================] - 0s 2ms/step - loss: 0.3965 - accuracy: 0.8182 - val_loss: 0.2781 - val_accuracy: 0.9614\n",
            "Epoch 44/50\n",
            "31/31 [==============================] - 0s 3ms/step - loss: 0.4138 - accuracy: 0.8240 - val_loss: 0.2690 - val_accuracy: 0.9614\n",
            "Epoch 45/50\n",
            "31/31 [==============================] - 0s 3ms/step - loss: 0.3567 - accuracy: 0.8427 - val_loss: 0.2658 - val_accuracy: 0.9614\n",
            "Epoch 46/50\n",
            "31/31 [==============================] - 0s 3ms/step - loss: 0.3330 - accuracy: 0.8060 - val_loss: 0.2704 - val_accuracy: 0.9614\n",
            "Epoch 47/50\n",
            "31/31 [==============================] - 0s 3ms/step - loss: 0.3245 - accuracy: 0.8589 - val_loss: 0.2651 - val_accuracy: 0.9638\n",
            "Epoch 48/50\n",
            "31/31 [==============================] - 0s 2ms/step - loss: 0.3352 - accuracy: 0.8303 - val_loss: 0.2594 - val_accuracy: 0.9638\n",
            "Epoch 49/50\n",
            "31/31 [==============================] - 0s 3ms/step - loss: 0.3124 - accuracy: 0.8490 - val_loss: 0.2629 - val_accuracy: 0.9638\n",
            "Epoch 50/50\n",
            "31/31 [==============================] - 0s 2ms/step - loss: 0.3410 - accuracy: 0.8360 - val_loss: 0.2652 - val_accuracy: 0.9638\n"
          ],
          "name": "stdout"
        },
        {
          "output_type": "execute_result",
          "data": {
            "text/plain": [
              "<tensorflow.python.keras.callbacks.History at 0x2273aff4ca0>"
            ]
          },
          "metadata": {
            "tags": []
          },
          "execution_count": 27
        }
      ]
    },
    {
      "cell_type": "code",
      "metadata": {
        "id": "PBVjy0TF_vVW",
        "outputId": "2bc4d246-2f4f-49ea-dc0a-2ad2d6270f82"
      },
      "source": [
        "loss, accuracy = model.evaluate(test_data, test_labels)"
      ],
      "execution_count": null,
      "outputs": [
        {
          "output_type": "stream",
          "text": [
            "19/19 [==============================] - 0s 779us/step - loss: 0.3079 - accuracy: 0.9525\n"
          ],
          "name": "stdout"
        }
      ]
    },
    {
      "cell_type": "code",
      "metadata": {
        "id": "qQk9VF2T_vVX",
        "outputId": "8a281d04-8d92-4719-f173-a411bc00ed62"
      },
      "source": [
        "loss"
      ],
      "execution_count": null,
      "outputs": [
        {
          "output_type": "execute_result",
          "data": {
            "text/plain": [
              "0.3079043924808502"
            ]
          },
          "metadata": {
            "tags": []
          },
          "execution_count": 29
        }
      ]
    },
    {
      "cell_type": "code",
      "metadata": {
        "id": "0HfxAUpj_vVX",
        "outputId": "246866f8-6489-4903-d965-6cb717412562"
      },
      "source": [
        "accuracy"
      ],
      "execution_count": null,
      "outputs": [
        {
          "output_type": "execute_result",
          "data": {
            "text/plain": [
              "0.9525423645973206"
            ]
          },
          "metadata": {
            "tags": []
          },
          "execution_count": 30
        }
      ]
    },
    {
      "cell_type": "code",
      "metadata": {
        "id": "S3N61K1o_vVY"
      },
      "source": [
        "predictions = model.predict(test_data)"
      ],
      "execution_count": null,
      "outputs": []
    },
    {
      "cell_type": "code",
      "metadata": {
        "id": "PsuepSid_vVY"
      },
      "source": [
        "y_pred = (predictions > 0.5)"
      ],
      "execution_count": null,
      "outputs": []
    },
    {
      "cell_type": "code",
      "metadata": {
        "id": "OLi3S4sj_vVY"
      },
      "source": [
        "con = tf.math.confusion_matrix(\n",
        "    test_labels, y_pred, num_classes=2, weights=None, dtype=tf.dtypes.int32,\n",
        "    name=None\n",
        ")"
      ],
      "execution_count": null,
      "outputs": []
    },
    {
      "cell_type": "code",
      "metadata": {
        "id": "wl8TdHpU_vVZ",
        "outputId": "a042ca85-3466-42eb-8523-dcb43ddeb34e"
      },
      "source": [
        "con"
      ],
      "execution_count": null,
      "outputs": [
        {
          "output_type": "execute_result",
          "data": {
            "text/plain": [
              "<tf.Tensor: shape=(2, 2), dtype=int32, numpy=\n",
              "array([[446,   2],\n",
              "       [ 26, 116]])>"
            ]
          },
          "metadata": {
            "tags": []
          },
          "execution_count": 34
        }
      ]
    },
    {
      "cell_type": "code",
      "metadata": {
        "id": "c6o4RwtH_vVZ",
        "outputId": "e3c7efad-7b04-4885-a808-7d8becc2da35"
      },
      "source": [
        "result = accuracy * 100\n",
        "result"
      ],
      "execution_count": null,
      "outputs": [
        {
          "output_type": "execute_result",
          "data": {
            "text/plain": [
              "95.25423645973206"
            ]
          },
          "metadata": {
            "tags": []
          },
          "execution_count": 35
        }
      ]
    },
    {
      "cell_type": "code",
      "metadata": {
        "id": "jbqrs8vF_vVZ"
      },
      "source": [
        ""
      ],
      "execution_count": null,
      "outputs": []
    }
  ]
}